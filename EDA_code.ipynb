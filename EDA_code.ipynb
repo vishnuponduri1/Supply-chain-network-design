{
  "nbformat": 4,
  "nbformat_minor": 0,
  "metadata": {
    "colab": {
      "provenance": []
    },
    "kernelspec": {
      "name": "python3",
      "display_name": "Python 3"
    },
    "language_info": {
      "name": "python"
    }
  },
  "cells": [
    {
      "cell_type": "markdown",
      "source": [
        "importing and merging LTL and **warehouse**"
      ],
      "metadata": {
        "id": "CqGE_v3RKuvW"
      }
    },
    {
      "cell_type": "code",
      "execution_count": 28,
      "metadata": {
        "id": "fYSZ-oluAacm",
        "colab": {
          "base_uri": "https://localhost:8080/"
        },
        "outputId": "8947bfee-d5b4-431a-ae1b-2bb030db7204"
      },
      "outputs": [
        {
          "output_type": "stream",
          "name": "stdout",
          "text": [
            "Number of rows in the DataFrame: 26640\n",
            "             Carrier    Account Tracking Number         BOL Number PO Number  \\\n",
            "0       R+L Carriers     WHE979       817902783         1014484360       NaN   \n",
            "1       R+L Carriers     WHE534       508568274  NONE                    NaN   \n",
            "2       R+L Carriers     WHE534       508550283  NONE                    NaN   \n",
            "3       R+L Carriers     WHE534        75825603  NONE                    NaN   \n",
            "4       R+L Carriers     WHE702       718865631  NONE                    NaN   \n",
            "...              ...        ...             ...                ...       ...   \n",
            "47644   R+L Carriers     WHE534       310433202  NONE                    NaN   \n",
            "47645   R+L Carriers     W15824       941098644  800-337-9005            NaN   \n",
            "47646   R+L Carriers     W15824       177191991  608-290-3396            NaN   \n",
            "47647  FedEx Freight  704813392      5033052791                NaN      NOPO   \n",
            "47648   R+L Carriers     W15824       195324039  RMA032397               NaN   \n",
            "\n",
            "      Shipment Date             Shipper Name   Shipper City Shipper State  \\\n",
            "0        22-08-2023          WHEEL PROS 1501         AUBURN            AL   \n",
            "1        27-02-2023               WHEEL PROS         AUBURN            AL   \n",
            "2        04-01-2023               WHEEL PROS         AUBURN            AL   \n",
            "3        22-03-2023               WHEEL PROS         AUBURN            AL   \n",
            "4        08-08-2023               WHEEL PROS         AUBURN            AL   \n",
            "...             ...                      ...            ...           ...   \n",
            "47644    14-09-2023               PERNOT INC     JANESVILLE            WI   \n",
            "47645    26-05-2023             ALEX C MEETZ       BRILLION            WI   \n",
            "47646    11-09-2023    THE CARRANZA CANCINOS      MILWAUKEE            WI   \n",
            "47647    24-03-2023  HINO MOTORS MFG USA INC  MINERAL WELLS            WV   \n",
            "47648    20-09-2023               ADAM STARK         CAMDEN            WV   \n",
            "\n",
            "      Shipper Zip  ... Base Discount Additional Discount Net FRT Chg  \\\n",
            "0           36832  ...      $653.27                  NaN    $196.23    \n",
            "1           36832  ...    $2,441.40                  NaN    $696.64    \n",
            "2           36832  ...    $1,507.76                  NaN    $430.23    \n",
            "3           36832  ...      $864.14                  NaN    $246.58    \n",
            "4           36832  ...      $689.74                  NaN    $204.86    \n",
            "...           ...  ...           ...                 ...         ...   \n",
            "47644       53545  ...      $208.43                  NaN    $131.60    \n",
            "47645       54110  ...       $28.26                  NaN    $133.00    \n",
            "47646       53207  ...        $6.22                  NaN    $129.85    \n",
            "47647       26120  ...       $706.79                 NaN     $164.71   \n",
            "47648       26338  ...       $43.43                  NaN     $95.05    \n",
            "\n",
            "      Accessorials       FSC Net Charge  Miles Rated Class Actual Class  \\\n",
            "0                0   $32.38    $228.61     113          85           85   \n",
            "1                0  $263.33    $959.97   1,324          85           85   \n",
            "2                0  $171.23    $601.46   1,324          85           85   \n",
            "3         $100.00    $88.28    $434.86     529          85           85   \n",
            "4                0   $72.32    $277.18     411          85           85   \n",
            "...            ...       ...        ...    ...         ...          ...   \n",
            "47644      $77.25    $51.72    $260.57     942          85           85   \n",
            "47645            0   $30.59    $163.59   1,124          85           85   \n",
            "47646            0   $33.89    $163.74     964          85           85   \n",
            "47647         97.7     56.99    $319.40    NaN          85           85   \n",
            "47648      $56.85    $34.80    $186.70   1,135          85           85   \n",
            "\n",
            "       Location  \n",
            "0          1501  \n",
            "1          1501  \n",
            "2          1501  \n",
            "3          1501  \n",
            "4          1501  \n",
            "...         ...  \n",
            "47644       NaN  \n",
            "47645       NaN  \n",
            "47646       NaN  \n",
            "47647       NaN  \n",
            "47648       NaN  \n",
            "\n",
            "[47649 rows x 28 columns]\n"
          ]
        }
      ],
      "source": [
        "import pandas as pd\n",
        "\n",
        "# Load the CSV files\n",
        "data = pd.read_csv(\"Wheel Pros Baseline LTL Data 2023 (1).csv\")\n",
        "df = pd.read_csv(\"/content/Warehouse Listing and Shipping Acct Numbers 23-0927.csv\")\n",
        "\n",
        "# Rename the column in df to match the one in data\n",
        "df.rename(columns={'Zip': 'Shipper Zip'}, inplace=True)\n",
        "\n",
        "data = data[~data['Recipient State/Province'].isin(['SK', 'QC', 'ON', 'AB', 'BC', 'NB', 'NS', 'NL', 'PE'])]\n",
        "\n",
        "num_rows = data.shape[0]\n",
        "print(\"Number of rows in the DataFrame:\", num_rows)\n",
        "\n",
        "# Merge based on the 'Shipper Zip' column\n",
        "result_df = pd.merge(data, df[['Shipper Zip', 'Location']], on='Shipper Zip', how='left')\n",
        "print(result_df)\n",
        "\n",
        "\n",
        "# Display the first few rows of the dataset\n",
        "#print(type(data[]))\n"
      ]
    },
    {
      "cell_type": "markdown",
      "source": [
        "**formatting LTL merge**"
      ],
      "metadata": {
        "id": "VHRozvRRK8E2"
      }
    },
    {
      "cell_type": "code",
      "source": [
        "# Keep only the selected columns\n",
        "selected_columns = [\"Carrier\", \"Shipment Date\", \"Shipper City\", \"Shipper Zip\",\"Shipper State\", \"Location\",\n",
        "                    \"Recipient City\", \"Recipient Zip\", \"Recipient State/Province\", \"Weight (lbs)\", \"Net Charge\", \"Miles\"]\n",
        "result_df = result_df[selected_columns]\n",
        "\n",
        "result_df['Weight (lbs)'] = result_df['Weight (lbs)'].str.replace(',','').astype(float)\n",
        "result_df['Net Charge'] = result_df['Net Charge'].str.replace('$','').str.replace(',','').astype(float)\n",
        "result_df['Miles'] = result_df['Miles'].str.replace(',','').astype(float)\n",
        "\n",
        "# numeric_columns = [\"Weight (lbs)\", \"Miles\"]\n",
        "# data[numeric_columns] = data[numeric_columns].apply(pd.to_numeric, errors='coerce')\n",
        "# Display the first few rows of the updated dataset\n",
        "print(result_df[['Weight (lbs)']].head())\n",
        "print(result_df[['Net Charge']].head())\n",
        "print(result_df[['Miles']].head())\n",
        "\n",
        "result_df.to_csv(\"mother_source.csv\", index=False)\n"
      ],
      "metadata": {
        "colab": {
          "base_uri": "https://localhost:8080/"
        },
        "id": "qbTxGIUVG-jX",
        "outputId": "6762ee68-30ca-4add-f0f5-47bae039a434"
      },
      "execution_count": 29,
      "outputs": [
        {
          "output_type": "stream",
          "name": "stderr",
          "text": [
            "<ipython-input-29-f943417f92f2>:6: SettingWithCopyWarning: \n",
            "A value is trying to be set on a copy of a slice from a DataFrame.\n",
            "Try using .loc[row_indexer,col_indexer] = value instead\n",
            "\n",
            "See the caveats in the documentation: https://pandas.pydata.org/pandas-docs/stable/user_guide/indexing.html#returning-a-view-versus-a-copy\n",
            "  result_df['Weight (lbs)'] = result_df['Weight (lbs)'].str.replace(',','').astype(float)\n",
            "<ipython-input-29-f943417f92f2>:7: FutureWarning: The default value of regex will change from True to False in a future version. In addition, single character regular expressions will *not* be treated as literal strings when regex=True.\n",
            "  result_df['Net Charge'] = result_df['Net Charge'].str.replace('$','').str.replace(',','').astype(float)\n",
            "<ipython-input-29-f943417f92f2>:7: SettingWithCopyWarning: \n",
            "A value is trying to be set on a copy of a slice from a DataFrame.\n",
            "Try using .loc[row_indexer,col_indexer] = value instead\n",
            "\n",
            "See the caveats in the documentation: https://pandas.pydata.org/pandas-docs/stable/user_guide/indexing.html#returning-a-view-versus-a-copy\n",
            "  result_df['Net Charge'] = result_df['Net Charge'].str.replace('$','').str.replace(',','').astype(float)\n",
            "<ipython-input-29-f943417f92f2>:8: SettingWithCopyWarning: \n",
            "A value is trying to be set on a copy of a slice from a DataFrame.\n",
            "Try using .loc[row_indexer,col_indexer] = value instead\n",
            "\n",
            "See the caveats in the documentation: https://pandas.pydata.org/pandas-docs/stable/user_guide/indexing.html#returning-a-view-versus-a-copy\n",
            "  result_df['Miles'] = result_df['Miles'].str.replace(',','').astype(float)\n"
          ]
        },
        {
          "output_type": "stream",
          "name": "stdout",
          "text": [
            "   Weight (lbs)\n",
            "0        5000.0\n",
            "1        3925.0\n",
            "2        2424.0\n",
            "3        2166.0\n",
            "4        1491.0\n",
            "   Net Charge\n",
            "0      228.61\n",
            "1      959.97\n",
            "2      601.46\n",
            "3      434.86\n",
            "4      277.18\n",
            "    Miles\n",
            "0   113.0\n",
            "1  1324.0\n",
            "2  1324.0\n",
            "3   529.0\n",
            "4   411.0\n"
          ]
        }
      ]
    },
    {
      "cell_type": "markdown",
      "source": [
        "**LTL aggregation @ demand end**"
      ],
      "metadata": {
        "id": "2uXQIha_LIzt"
      }
    },
    {
      "cell_type": "code",
      "source": [
        "\n",
        "# Convert 'Shipment Date' to datetime format\n",
        "result_df['Shipment Date'] = pd.to_datetime(result_df['Shipment Date'], format='%d-%m-%Y')\n",
        "# Extract month from 'Shipment Date'\n",
        "result_df['Month'] = result_df['Shipment Date'].dt.month\n",
        "#print(data['Month'].unique())\n",
        "result_df['Recipient City'] = result_df['Recipient City'].str.replace(' ', '').str.title()\n",
        "\n",
        "# Aggregate at zip level\n",
        "zip_aggregated = result_df.groupby(['Recipient Zip', 'Month', 'Recipient City', 'Recipient State/Province']).agg({\n",
        "    'Weight (lbs)': 'sum',\n",
        "    'Net Charge': 'sum'\n",
        "}).reset_index()\n",
        "\n",
        "zip_aggregated['Country'] = 'USA'\n",
        "zip_aggregated['type'] = 'LTL'\n",
        "# Display aggregated data at zip level\n",
        "\n",
        "print(zip_aggregated.head())\n",
        "zip_aggregated.to_csv(\"demand_aggregated_final.csv\", index=False)\n",
        "\n",
        "\n"
      ],
      "metadata": {
        "colab": {
          "base_uri": "https://localhost:8080/"
        },
        "id": "5hPx-9Y2KWL_",
        "outputId": "24fe5f57-7741-41b8-fce4-888855d66d57"
      },
      "execution_count": 30,
      "outputs": [
        {
          "output_type": "stream",
          "name": "stdout",
          "text": [
            "  Recipient Zip  Month Recipient City Recipient State/Province  Weight (lbs)  \\\n",
            "0    02766-2913      3         Norton                       MA         584.0   \n",
            "1    06042-2211      3     Manchester                       CT        3108.0   \n",
            "2    06042-2211      4     Manchester                       CT        9162.0   \n",
            "3    06042-2211      9     Manchester                       CT        2044.0   \n",
            "4    06051-2915      8     Newbritain                       CT         144.0   \n",
            "\n",
            "   Net Charge Country type  \n",
            "0      417.78     USA  LTL  \n",
            "1     2331.52     USA  LTL  \n",
            "2     2398.41     USA  LTL  \n",
            "3      517.80     USA  LTL  \n",
            "4      182.51     USA  LTL  \n"
          ]
        }
      ]
    },
    {
      "cell_type": "markdown",
      "source": [
        "**LTL aggregation @ supplier end**"
      ],
      "metadata": {
        "id": "0x2ssTDgPi5O"
      }
    },
    {
      "cell_type": "code",
      "source": [
        "# Convert 'Shipment Date' to datetime format\n",
        "result_df['Shipment Date'] = pd.to_datetime(result_df['Shipment Date'], format='%d-%m-%Y')\n",
        "# Extract month from 'Shipment Date'\n",
        "result_df['Month'] = result_df['Shipment Date'].dt.month\n",
        "#print(data['Month'].unique())\n",
        "result_df['Shipper City'] = result_df['Shipper City'].str.replace(' ', '').str.title()\n",
        "\n",
        "# Aggregate at zip level\n",
        "zip_aggregated = result_df.groupby(['Shipper Zip', 'Month', 'Shipper City', 'Shipper State', 'Location']).agg({\n",
        "    'Weight (lbs)': 'sum',\n",
        "    'Net Charge': 'sum'\n",
        "}).reset_index()\n",
        "\n",
        "zip_aggregated['Country'] = 'USA'\n",
        "zip_aggregated['type'] = 'LTL'\n",
        "# Display aggregated data at zip level\n",
        "\n",
        "print(zip_aggregated.head())\n",
        "zip_aggregated.to_csv(\"supply_aggregated.csv\", index=False)"
      ],
      "metadata": {
        "colab": {
          "base_uri": "https://localhost:8080/"
        },
        "id": "5GpNkMvaNGt1",
        "outputId": "b14244f2-5c3a-47ba-cdf9-753f7fce1808"
      },
      "execution_count": 31,
      "outputs": [
        {
          "output_type": "stream",
          "name": "stdout",
          "text": [
            "  Shipper Zip  Month Shipper City Shipper State Location  Weight (lbs)  \\\n",
            "0       11735      1  Farmingdale            NY     1042       12530.0   \n",
            "1       11735      2  Farmingdale            NY     1042       19405.0   \n",
            "2       11735      3  Farmingdale            NY     1042       13842.0   \n",
            "3       11735      4  Farmingdale            NY     1042       36269.0   \n",
            "4       11735      5  Farmingdale            NY     1042        9589.0   \n",
            "\n",
            "   Net Charge Country type  \n",
            "0     5386.86     USA  LTL  \n",
            "1     8218.38     USA  LTL  \n",
            "2     6543.49     USA  LTL  \n",
            "3    21401.75     USA  LTL  \n",
            "4     5329.54     USA  LTL  \n"
          ]
        }
      ]
    },
    {
      "cell_type": "code",
      "source": [
        "#print(data[data['Month']==12])"
      ],
      "metadata": {
        "id": "qSMw6liAIamt"
      },
      "execution_count": null,
      "outputs": []
    },
    {
      "cell_type": "markdown",
      "source": [
        "**FTL WORKING**"
      ],
      "metadata": {
        "id": "Mf7Gwa8Iu_Ev"
      }
    },
    {
      "cell_type": "code",
      "source": [
        "data1 = pd.read_csv(\"/content/FTL Baseline Jan - Oct 2023.csv\")\n",
        "selected_columns = [\"Carrier Name\",\"O: Pick Up Name\", \"Ship Date\",\"O: City\", \"O: Zip\", \"O: State\",\n",
        "                    \"D: City\", \"D: Zip\", \"D: State\", \"Weight\", \"Total Charges\"]\n",
        "data1 = data1[data1['O: Zip'].isin(['90620','75050','30519'])]\n",
        "data1 = data1[selected_columns]\n",
        "data1['Weight'] = data1['Weight'].str.replace(',','').astype(float)\n",
        "data1['Total Charges'] = data1['Total Charges'].str.replace('$','').str.replace(',','').astype(float)\n",
        "print(data1[['Weight']].head())\n",
        "print(data1[['Total Charges']].head())\n",
        "\n",
        "num_rows = data1.shape[0]\n",
        "print(\"Number of rows in the DataFrame:\", num_rows)\n",
        "\n",
        "\n",
        "df = pd.read_csv(\"/content/Warehouse Listing and Shipping Acct Numbers 23-0927.csv\")\n",
        "\n",
        "# Rename the column in df to match the one in data\n",
        "df.rename(columns={'Zip': 'D: Zip'}, inplace=True)\n",
        "\n",
        "result_df = pd.merge(data1, df[['D: Zip', 'Location']], on='D: Zip', how='left')\n",
        "\n",
        "print(result_df)\n",
        "result_df.to_csv(\"FTL load.csv\", index=False)\n",
        "\n"
      ],
      "metadata": {
        "colab": {
          "base_uri": "https://localhost:8080/"
        },
        "id": "pAgxBA8xLnnF",
        "outputId": "aaf310d8-38f6-4501-c77e-478dcce74a8a"
      },
      "execution_count": 33,
      "outputs": [
        {
          "output_type": "stream",
          "name": "stdout",
          "text": [
            "     Weight\n",
            "0   35000.0\n",
            "6   35000.0\n",
            "7   35000.0\n",
            "9   35000.0\n",
            "12  35000.0\n",
            "    Total Charges\n",
            "0         1960.00\n",
            "6         2191.05\n",
            "7         2178.00\n",
            "9         1125.00\n",
            "12        3700.00\n",
            "Number of rows in the DataFrame: 2473\n",
            "     Carrier Name   O: Pick Up Name   Ship Date        O: City O: Zip  \\\n",
            "0        Landstar  Wheel Pros #1086  01-03-2023  Grand Prairie  75050   \n",
            "1        Landstar  Wheel Pros #1086  01-03-2023  Grand Prairie  75050   \n",
            "2         Connect  Wheel Pros #1088  01-03-2023         Buford  30519   \n",
            "3     CH Robinson  Wheel Pros #1086  01-03-2023  Grand Prairie  75050   \n",
            "4         Connect  Wheel Pros #1088  01-03-2023         Buford  30519   \n",
            "...           ...               ...         ...            ...    ...   \n",
            "3106      Connect  Wheel Pros #1088    10-31-23         Buford  30519   \n",
            "3107       Celtic  Wheel Pros #1088    10-31-23         Buford  30519   \n",
            "3108      Connect  Wheel Pros #1085    10-31-23     Buena Park  90620   \n",
            "3109      Connect  Wheel Pros #1088    10-31-23         Buford  30519   \n",
            "3110       Coyote  Wheel Pros #1085         NaN     Buena Park  90620   \n",
            "\n",
            "     O: State         D: City  D: Zip D: State   Weight  Total Charges  \\\n",
            "0          TX          Buford   30519       GA  35000.0        1960.00   \n",
            "1          TX          Buford   30519       GA  35000.0        1960.00   \n",
            "2          GA        Brampton  L6T5K1       ON  35000.0        2191.05   \n",
            "3          TX   Brooklyn Park   55428       MN  35000.0        2178.00   \n",
            "4          GA       Fairfield   45011       OH  35000.0        1125.00   \n",
            "...       ...             ...     ...      ...      ...            ...   \n",
            "3106       GA         Houston   77043       TX  35000.0        1550.00   \n",
            "3107       GA           Elgin   60124       IL  35000.0        1494.72   \n",
            "3108       CA  Rancho Cordova   95670       CA  35000.0        1120.00   \n",
            "3109       GA       Charlotte   28212       NC  35000.0         625.00   \n",
            "3110       CA   Brooklyn Park   55428       MN  35000.0        3328.70   \n",
            "\n",
            "     Location  \n",
            "0        1014  \n",
            "1        1088  \n",
            "2         NaN  \n",
            "3        1028  \n",
            "4        1020  \n",
            "...       ...  \n",
            "3106     1003  \n",
            "3107     1015  \n",
            "3108     1008  \n",
            "3109      NaN  \n",
            "3110     1028  \n",
            "\n",
            "[3111 rows x 12 columns]\n"
          ]
        },
        {
          "output_type": "stream",
          "name": "stderr",
          "text": [
            "<ipython-input-33-3f9a5b5ebc14>:7: FutureWarning: The default value of regex will change from True to False in a future version. In addition, single character regular expressions will *not* be treated as literal strings when regex=True.\n",
            "  data1['Total Charges'] = data1['Total Charges'].str.replace('$','').str.replace(',','').astype(float)\n"
          ]
        }
      ]
    },
    {
      "cell_type": "code",
      "source": [
        "\n"
      ],
      "metadata": {
        "id": "ZXTW_jiyS03T"
      },
      "execution_count": null,
      "outputs": []
    },
    {
      "cell_type": "code",
      "source": [
        "\n",
        "\n"
      ],
      "metadata": {
        "colab": {
          "base_uri": "https://localhost:8080/"
        },
        "id": "vSPwagzIP53Q",
        "outputId": "e805e63e-8d12-402a-ef03-ad206cda9fe1"
      },
      "execution_count": null,
      "outputs": [
        {
          "output_type": "stream",
          "name": "stdout",
          "text": [
            "       Carrier  Month  Weight (lbs)  Net Charge\n",
            "0  CH Robinson      1       96082.0    36099.32\n",
            "1  CH Robinson      2       86128.0    27836.95\n",
            "2  CH Robinson      3      126576.0    41686.41\n",
            "3  CH Robinson      4       57310.0    18530.97\n",
            "4  CH Robinson      5      153828.0    62473.26\n"
          ]
        }
      ]
    },
    {
      "cell_type": "code",
      "source": [
        "#zip_aggregated.to_csv(\"zip_aggregated_final.csv\", index=False)\n",
        "#city_aggregated.to_csv(\"city_aggregated_final.csv\", index=False)\n",
        "#carrier_aggregated.to_csv(\"carrier_aggregated_final.csv\", index=False)"
      ],
      "metadata": {
        "id": "T2xT8X40UNtp"
      },
      "execution_count": null,
      "outputs": []
    },
    {
      "cell_type": "code",
      "source": [
        "\n"
      ],
      "metadata": {
        "id": "VDKu_fnmUX2E"
      },
      "execution_count": null,
      "outputs": []
    }
  ]
}